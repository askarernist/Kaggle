{
  "nbformat": 4,
  "nbformat_minor": 0,
  "metadata": {
    "colab": {
      "provenance": [],
      "collapsed_sections": [],
      "authorship_tag": "ABX9TyP+yPp0gOy+N4Kzdjgt0okO",
      "include_colab_link": true
    },
    "kernelspec": {
      "name": "python3",
      "display_name": "Python 3"
    },
    "language_info": {
      "name": "python"
    }
  },
  "cells": [
    {
      "cell_type": "markdown",
      "metadata": {
        "id": "view-in-github",
        "colab_type": "text"
      },
      "source": [
        "<a href=\"https://colab.research.google.com/github/askarernist/Kaggle/blob/main/Mid_term_assignment_Askar_Ernist.ipynb\" target=\"_parent\"><img src=\"https://colab.research.google.com/assets/colab-badge.svg\" alt=\"Open In Colab\"/></a>"
      ]
    },
    {
      "cell_type": "code",
      "execution_count": 165,
      "metadata": {
        "id": "rvSZeEGAAT8w"
      },
      "outputs": [],
      "source": [
        "from sqlalchemy import create_engine\n",
        "my_conn = create_engine(\"sqlite:////content/Midterm.db\")"
      ]
    },
    {
      "cell_type": "code",
      "source": [
        "# created the major \"Vehicles\" table\n",
        "my_conn.execute('''\n",
        "  CREATE TABLE IF NOT EXISTS Vehicles(\n",
        "    id integer primary key, \n",
        "    registration_id text, \n",
        "    manufacturer text, \n",
        "    model text, \n",
        "    color text, \n",
        "    current_odometer integer, \n",
        "    passenger_capacity integer,\n",
        "    driver_id,\n",
        "    FOREIGN KEY(driver_id) REFERENCES Driver(id))''')"
      ],
      "metadata": {
        "colab": {
          "base_uri": "https://localhost:8080/"
        },
        "id": "dl3lzrApAsFs",
        "outputId": "9f0867eb-cd47-499a-8457-0c771e71dbf3"
      },
      "execution_count": 166,
      "outputs": [
        {
          "output_type": "execute_result",
          "data": {
            "text/plain": [
              "<sqlalchemy.engine.cursor.LegacyCursorResult at 0x7fb206a6a7d0>"
            ]
          },
          "metadata": {},
          "execution_count": 166
        }
      ]
    },
    {
      "cell_type": "code",
      "source": [
        "# Inserting all info to \"Vehicles\" table\n",
        "r_set = my_conn.execute(''' INSERT INTO `Vehicles` \n",
        "  (`id`, `registration_id`, `manufacturer`, `model`, `color`, `current_odometer`, `passenger_capacity`,`driver_id`) VALUES\n",
        "  (1, '2001 ABC', 'Volvo', 'XC90 SE', 'Silver', 4350, 4,1),\n",
        "  (2, '2006 AFD', 'Kia', 'K7', 'Black', 2195, 4, 2),\n",
        "  (3, '2021 AHR', 'Tesla', '2020 F', 'White', 509, 4,3),\n",
        "  (4, '2020 DXF', 'Ford', 'Transit', 'Silver', 974, 2,4)\n",
        "''')\n",
        "\n",
        "q = ''' SELECT * FROM Vehicles '''\n",
        "my_cursor = my_conn.execute(q)\n",
        "data_row = my_cursor.fetchall()\n",
        "print(type(data_row))\n",
        "\n",
        "print(\"No of records : \" , len(data_row))\n",
        "for row in data_row:\n",
        "  print(row)"
      ],
      "metadata": {
        "id": "HRaRnHf4CbIX",
        "colab": {
          "base_uri": "https://localhost:8080/"
        },
        "outputId": "2ab601f6-68b6-41b7-dcc0-f36fcc01d4f4"
      },
      "execution_count": 167,
      "outputs": [
        {
          "output_type": "stream",
          "name": "stdout",
          "text": [
            "<class 'list'>\n",
            "No of records :  4\n",
            "(1, '2001 ABC', 'Volvo', 'XC90 SE', 'Silver', 4350, 4, 1)\n",
            "(2, '2006 AFD', 'Kia', 'K7', 'Black', 2195, 4, 2)\n",
            "(3, '2021 AHR', 'Tesla', '2020 F', 'White', 509, 4, 3)\n",
            "(4, '2020 DXF', 'Ford', 'Transit', 'Silver', 974, 2, 4)\n"
          ]
        }
      ]
    },
    {
      "cell_type": "code",
      "source": [
        "# created the major \"Vehicle Actions\" table\n",
        "my_conn.execute('''\n",
        "  CREATE TABLE IF NOT EXISTS Vehicle_Actions(\n",
        "    id integer primary key, \n",
        "    action_type char, \n",
        "    odometer integer, \n",
        "    final_cost integer, \n",
        "    description text, \n",
        "    date date,\n",
        "    vehicle_id,\n",
        "    FOREIGN KEY(vehicle_id) REFERENCES Vehicles(id))''')"
      ],
      "metadata": {
        "colab": {
          "base_uri": "https://localhost:8080/"
        },
        "id": "8QZF8VlUlFd9",
        "outputId": "85c9e2a3-2503-4f46-8b8a-b35fcf86dfe5"
      },
      "execution_count": 168,
      "outputs": [
        {
          "output_type": "execute_result",
          "data": {
            "text/plain": [
              "<sqlalchemy.engine.cursor.LegacyCursorResult at 0x7fb206a7b090>"
            ]
          },
          "metadata": {},
          "execution_count": 168
        }
      ]
    },
    {
      "cell_type": "code",
      "source": [
        "# Inserting all info to \"Vehicle Actions\" table\n",
        "r_set = my_conn.execute(''' INSERT INTO `Vehicle_Actions` \n",
        "  (`id`, `action_type`, `odometer`, `final_cost`, `description`, `date`, `vehicle_id`) VALUES\n",
        "  (5, 'M', 45000, 500, 'always clean', 2019-06-15, 1),\n",
        "  (6, 'M', 30000, 544, 'easy trips', 2019-06-15, 2),\n",
        "  (7, 'M', 40000, 444, 'good music', 2017-06-15, 3),\n",
        "  (8, 'R',44444, 4444, 'polite atmosphere', 2017-06-15,4)\n",
        "''')\n",
        "q = ''' SELECT * FROM Vehicle_Actions '''\n",
        "my_cursor = my_conn.execute(q)\n",
        "data_row = my_cursor.fetchall()\n",
        "print(type(data_row))\n",
        "\n",
        "print(\"No of records : \" , len(data_row))\n",
        "for row in data_row:\n",
        "  print(row)"
      ],
      "metadata": {
        "colab": {
          "base_uri": "https://localhost:8080/"
        },
        "id": "i7XpB3mfH97h",
        "outputId": "831c74d9-3388-43eb-f55f-3fc35cd21c7e"
      },
      "execution_count": 169,
      "outputs": [
        {
          "output_type": "stream",
          "name": "stdout",
          "text": [
            "<class 'list'>\n",
            "No of records :  4\n",
            "(5, 'M', 45000, 500, 'always clean', 1998, 1)\n",
            "(6, 'M', 30000, 544, 'easy trips', 1998, 2)\n",
            "(7, 'M', 40000, 444, 'good music', 1996, 3)\n",
            "(8, 'R', 44444, 4444, 'polite atmosphere', 1996, 4)\n"
          ]
        }
      ]
    },
    {
      "cell_type": "code",
      "source": [
        "#created table 'Drivers'\n",
        "my_conn.execute('''\n",
        "CREATE TABLE IF NOT EXISTS Drivers(\n",
        "    id integer primary key, \n",
        "    name text, \n",
        "    license_number text,\n",
        "    clearance_level integer,\n",
        "    language_id integer,\n",
        "    FOREIGN KEY(language_id) REFERENCES Languages(id))''')"
      ],
      "metadata": {
        "colab": {
          "base_uri": "https://localhost:8080/"
        },
        "id": "r9Uuh2l2j5qL",
        "outputId": "6957ce28-ef8e-46fa-9027-1f493a503bd0"
      },
      "execution_count": 170,
      "outputs": [
        {
          "output_type": "execute_result",
          "data": {
            "text/plain": [
              "<sqlalchemy.engine.cursor.LegacyCursorResult at 0x7fb206a80fd0>"
            ]
          },
          "metadata": {},
          "execution_count": 170
        }
      ]
    },
    {
      "cell_type": "code",
      "source": [
        "# Inserting all info to \"Drivers\" table\n",
        "r_set = my_conn.execute(''' INSERT INTO `Drivers` \n",
        "  (`id`, `name`, `license_number`, `clearance_level`, `language_id`) VALUES\n",
        "  (1, \"John\", '123456789101324354', 1, 1),\n",
        "  (2, \"In Che Xiu\", '123456789101324351', 3, 2)\n",
        "''')\n",
        "\n",
        "q = ''' SELECT * FROM Drivers '''\n",
        "my_cursor = my_conn.execute(q)\n",
        "data_row = my_cursor.fetchall()\n",
        "print(type(data_row))\n",
        "\n",
        "print(\"No of records : \" , len(data_row))\n",
        "for row in data_row:\n",
        "  print(row)"
      ],
      "metadata": {
        "colab": {
          "base_uri": "https://localhost:8080/"
        },
        "id": "ZAjZY_JFkMdf",
        "outputId": "b82e15a9-b7b8-44b5-98b0-81ffcdc6a892"
      },
      "execution_count": 171,
      "outputs": [
        {
          "output_type": "stream",
          "name": "stdout",
          "text": [
            "<class 'list'>\n",
            "No of records :  2\n",
            "(1, 'John', '123456789101324354', 1, 1)\n",
            "(2, 'In Che Xiu', '123456789101324351', 3, 2)\n"
          ]
        }
      ]
    },
    {
      "cell_type": "code",
      "source": [
        "#created table 'FATL'\n",
        "my_conn.execute('''\n",
        "  CREATE TABLE IF NOT EXISTS FATL(\n",
        "    id integer primary key,\n",
        "    driver_id integer,\n",
        "    Level integer,\n",
        "    Qualification_date date,\n",
        "    FOREIGN KEY(driver_id) REFERENCES Drivers(id))\n",
        "    ''')"
      ],
      "metadata": {
        "colab": {
          "base_uri": "https://localhost:8080/"
        },
        "id": "Z_rwr4Koo3rm",
        "outputId": "f606e6c2-caad-494e-9b1c-d8e4f1a00578"
      },
      "execution_count": 172,
      "outputs": [
        {
          "output_type": "execute_result",
          "data": {
            "text/plain": [
              "<sqlalchemy.engine.cursor.LegacyCursorResult at 0x7fb2069dedd0>"
            ]
          },
          "metadata": {},
          "execution_count": 172
        }
      ]
    },
    {
      "cell_type": "code",
      "source": [
        "# Inserting all info to \"FATL\" table\n",
        "r_set = my_conn.execute(''' INSERT INTO `FATL` \n",
        "  (`id`, `driver_id`, `Level`, `Qualification_date`) VALUES\n",
        "  (1, 1, '5', 2019-10-11),\n",
        "  (2, 2, 4, 2018-10-22)\n",
        "''')\n",
        "\n",
        "q = ''' SELECT * FROM FATL '''\n",
        "my_cursor = my_conn.execute(q)\n",
        "data_row = my_cursor.fetchall()\n",
        "print(type(data_row))\n",
        "\n",
        "print(\"No of records : \" , len(data_row))\n",
        "for row in data_row:\n",
        "  print(row)"
      ],
      "metadata": {
        "colab": {
          "base_uri": "https://localhost:8080/"
        },
        "id": "SooN55qUo0U0",
        "outputId": "967e965c-0876-4639-815d-645495db979e"
      },
      "execution_count": 173,
      "outputs": [
        {
          "output_type": "stream",
          "name": "stdout",
          "text": [
            "<class 'list'>\n",
            "No of records :  2\n",
            "(1, 1, 5, 1998)\n",
            "(2, 2, 4, 1986)\n"
          ]
        }
      ]
    },
    {
      "cell_type": "code",
      "source": [
        "#created table 'STLVT'\n",
        "my_conn.execute('''\n",
        "  CREATE TABLE IF NOT EXISTS STLVT(\n",
        "    id integer primary key,\n",
        "    driver_id integer,\n",
        "    Level integer,\n",
        "    Qualification_date date,\n",
        "    authority text,\n",
        "    FOREIGN KEY(driver_id) REFERENCES Drivers(id))\n",
        "    ''')"
      ],
      "metadata": {
        "id": "LwL00ShSpe4M",
        "colab": {
          "base_uri": "https://localhost:8080/"
        },
        "outputId": "314d5f5d-6cdf-48e0-c08f-551eb36bac6f"
      },
      "execution_count": 174,
      "outputs": [
        {
          "output_type": "execute_result",
          "data": {
            "text/plain": [
              "<sqlalchemy.engine.cursor.LegacyCursorResult at 0x7fb2069f8250>"
            ]
          },
          "metadata": {},
          "execution_count": 174
        }
      ]
    },
    {
      "cell_type": "code",
      "source": [
        "# Inserting all info to \"STLVT\" table\n",
        "r_set = my_conn.execute(''' INSERT INTO `STLVT` \n",
        "  (`id`, `driver_id`, `Level`, `Qualification_date`,`authority`) VALUES\n",
        "  (3, 1, '5', 2019-10-11, 'FSB'),\n",
        "  (4, 2, 4, 2018-10-22, 'FSB')\n",
        "''')\n",
        "\n",
        "q = ''' SELECT * FROM STLVT '''\n",
        "my_cursor = my_conn.execute(q)\n",
        "data_row = my_cursor.fetchall()\n",
        "print(type(data_row))\n",
        "\n",
        "print(\"No of records : \" , len(data_row))\n",
        "for row in data_row:\n",
        "  print(row)"
      ],
      "metadata": {
        "colab": {
          "base_uri": "https://localhost:8080/"
        },
        "id": "lyFyrCQ5-T8g",
        "outputId": "bc8bb2bc-be56-4b2f-f0da-8728f564129e"
      },
      "execution_count": 175,
      "outputs": [
        {
          "output_type": "stream",
          "name": "stdout",
          "text": [
            "<class 'list'>\n",
            "No of records :  2\n",
            "(3, 1, 5, 1998, 'FSB')\n",
            "(4, 2, 4, 1986, 'FSB')\n"
          ]
        }
      ]
    },
    {
      "cell_type": "code",
      "source": [
        "#created table 'Game_officials'\n",
        "my_conn.execute('''\n",
        "  CREATE TABLE IF NOT EXISTS Game_Officials(\n",
        "    id integer primary key,\n",
        "    name text,\n",
        "    country_id integer,\n",
        "    city_id integer,\n",
        "    role text,\n",
        "    language_id integer,\n",
        "    FOREIGN KEY(country_id) REFERENCES Countries(id),\n",
        "    FOREIGN KEY(language_id) REFERENCES Languages(id))\n",
        "    ''')"
      ],
      "metadata": {
        "colab": {
          "base_uri": "https://localhost:8080/"
        },
        "id": "MVJUQ_DDrbEW",
        "outputId": "31a16540-f575-46c8-9cb4-e3d9ff025542"
      },
      "execution_count": 176,
      "outputs": [
        {
          "output_type": "execute_result",
          "data": {
            "text/plain": [
              "<sqlalchemy.engine.cursor.LegacyCursorResult at 0x7fb2069d6510>"
            ]
          },
          "metadata": {},
          "execution_count": 176
        }
      ]
    },
    {
      "cell_type": "code",
      "source": [
        "# Inserting all info to \"Game_Officials\" table\n",
        "r_set = my_conn.execute(''' INSERT INTO `Game_Officials` \n",
        "  (`id`,`name`,`country_id`,`city_id`, `role`, `language_id`) VALUES\n",
        "  (1, 'Alex', 123,145,'Coach', 2),\n",
        "  (2, 'Si Won Hye',122, 144, 'Assistent', 2)\n",
        "''')\n",
        "\n",
        "q = ''' SELECT * FROM Game_Officials '''\n",
        "my_cursor = my_conn.execute(q)\n",
        "data_row = my_cursor.fetchall()\n",
        "print(type(data_row))\n",
        "\n",
        "print(\"No of records : \" , len(data_row))\n",
        "for row in data_row:\n",
        "  print(row)"
      ],
      "metadata": {
        "colab": {
          "base_uri": "https://localhost:8080/"
        },
        "id": "aUQ30uKe_De4",
        "outputId": "5b8d3dc3-01eb-4ac2-bb96-8359c8b73f76"
      },
      "execution_count": 177,
      "outputs": [
        {
          "output_type": "stream",
          "name": "stdout",
          "text": [
            "<class 'list'>\n",
            "No of records :  2\n",
            "(1, 'Alex', 123, 145, 'Coach', 2)\n",
            "(2, 'Si Won Hye', 122, 144, 'Assistent', 2)\n"
          ]
        }
      ]
    },
    {
      "cell_type": "code",
      "source": [
        "#created table 'Countries'\n",
        "my_conn.execute('''\n",
        "  CREATE TABLE IF NOT EXISTS Countries(\n",
        "    id integer primary key,\n",
        "    name text)\n",
        "    ''')"
      ],
      "metadata": {
        "colab": {
          "base_uri": "https://localhost:8080/"
        },
        "id": "jE88nMskgo1n",
        "outputId": "728d7f34-579e-4a64-fda7-f2f16c7e3e08"
      },
      "execution_count": 178,
      "outputs": [
        {
          "output_type": "execute_result",
          "data": {
            "text/plain": [
              "<sqlalchemy.engine.cursor.LegacyCursorResult at 0x7fb2069d6410>"
            ]
          },
          "metadata": {},
          "execution_count": 178
        }
      ]
    },
    {
      "cell_type": "code",
      "source": [
        "#Inserting infor for the created table 'Countries'\n",
        "r_set = my_conn.execute('''INSERT INTO \"Countries\"\n",
        "(`id`,`name`)VALUES\n",
        "(11,'USA'),\n",
        "(22,'China'),\n",
        "(33,'Korea') ''')\n",
        "q = ''' SELECT * FROM Countries '''\n",
        "my_cursor = my_conn.execute(q)\n",
        "data_row = my_cursor.fetchall()\n",
        "print(type(data_row))\n",
        "\n",
        "print(\"No of records : \" , len(data_row))\n",
        "for row in data_row:\n",
        "  print(row)"
      ],
      "metadata": {
        "colab": {
          "base_uri": "https://localhost:8080/"
        },
        "id": "v1iOTY3oN7IJ",
        "outputId": "47ba529d-5d44-4ccb-ffdc-6b53aa96b339"
      },
      "execution_count": 179,
      "outputs": [
        {
          "output_type": "stream",
          "name": "stdout",
          "text": [
            "<class 'list'>\n",
            "No of records :  3\n",
            "(11, 'USA')\n",
            "(22, 'China')\n",
            "(33, 'Korea')\n"
          ]
        }
      ]
    },
    {
      "cell_type": "code",
      "source": [
        "#created table 'Languages'\n",
        "my_conn.execute('''\n",
        "  CREATE TABLE IF NOT EXISTS Languages(\n",
        "    id integer primary key,\n",
        "    name text,\n",
        "    iso text)\n",
        "    ''')"
      ],
      "metadata": {
        "colab": {
          "base_uri": "https://localhost:8080/"
        },
        "id": "gxeJu4B7hfn2",
        "outputId": "0982f856-2706-4d39-bcda-7b65968dd295"
      },
      "execution_count": 180,
      "outputs": [
        {
          "output_type": "execute_result",
          "data": {
            "text/plain": [
              "<sqlalchemy.engine.cursor.LegacyCursorResult at 0x7fb2069d6310>"
            ]
          },
          "metadata": {},
          "execution_count": 180
        }
      ]
    },
    {
      "cell_type": "code",
      "source": [
        "#Inserting infor for the created table 'Languages'\n",
        "r_set = my_conn.execute('''INSERT INTO \"Languages\"\n",
        "(`id`,`name`, `iso`)VALUES\n",
        "(1,'USA', 'ISO 3166-2:US'),\n",
        "(2,'China', 'ISO 3166-2:CN'),\n",
        "(3,'Korea', 'ISO 3166-2:KR') ''')\n",
        "\n",
        "q = ''' SELECT * FROM Languages '''\n",
        "my_cursor = my_conn.execute(q)\n",
        "data_row = my_cursor.fetchall()\n",
        "print(type(data_row))\n",
        "\n",
        "print(\"No of records : \" , len(data_row))\n",
        "for row in data_row:\n",
        "  print(row)"
      ],
      "metadata": {
        "colab": {
          "base_uri": "https://localhost:8080/"
        },
        "id": "kAlHr0E7qdPN",
        "outputId": "2518e3d5-d3d1-43b2-a117-092128119784"
      },
      "execution_count": 181,
      "outputs": [
        {
          "output_type": "stream",
          "name": "stdout",
          "text": [
            "<class 'list'>\n",
            "No of records :  3\n",
            "(1, 'USA', 'ISO 3166-2:US')\n",
            "(2, 'China', 'ISO 3166-2:CN')\n",
            "(3, 'Korea', 'ISO 3166-2:KR')\n"
          ]
        }
      ]
    },
    {
      "cell_type": "code",
      "source": [
        "#created table 'Country_languages'\n",
        "my_conn.execute('''\n",
        "CREATE TABLE IF NOT EXISTS Country_languages(\n",
        "    country_id integer,\n",
        "    language_id integer,\n",
        "    FOREIGN KEY (country_id) REFERENCES Countries(id), \n",
        "    FOREIGN KEY (language_id) REFERENCES Languages(id),\n",
        "    UNIQUE (country_id, language_id))''')"
      ],
      "metadata": {
        "colab": {
          "base_uri": "https://localhost:8080/"
        },
        "id": "DffpdEkDqY-q",
        "outputId": "92d358bd-82c2-4db0-87f1-7134e545e54a"
      },
      "execution_count": 182,
      "outputs": [
        {
          "output_type": "execute_result",
          "data": {
            "text/plain": [
              "<sqlalchemy.engine.cursor.LegacyCursorResult at 0x7fb206a0ac90>"
            ]
          },
          "metadata": {},
          "execution_count": 182
        }
      ]
    },
    {
      "cell_type": "code",
      "source": [
        "#Inserting infor for the created table 'Country_languages'\n",
        "r_set = my_conn.execute('''INSERT INTO \"Country_languages\"\n",
        "(`country_id`,`language_id`)VALUES\n",
        "(1, 2),\n",
        "(2, 1) ''')\n",
        "\n",
        "q = ''' SELECT * FROM Country_languages '''\n",
        "my_cursor = my_conn.execute(q)\n",
        "data_row = my_cursor.fetchall()\n",
        "print(type(data_row))\n",
        "\n",
        "print(\"No of records : \" , len(data_row))\n",
        "for row in data_row:\n",
        "  print(row)"
      ],
      "metadata": {
        "colab": {
          "base_uri": "https://localhost:8080/"
        },
        "id": "OCpsMAJcrPpF",
        "outputId": "200f6a86-d69a-4998-e2ba-f4ef7dbbdba8"
      },
      "execution_count": 183,
      "outputs": [
        {
          "output_type": "stream",
          "name": "stdout",
          "text": [
            "<class 'list'>\n",
            "No of records :  2\n",
            "(1, 2)\n",
            "(2, 1)\n"
          ]
        }
      ]
    },
    {
      "cell_type": "code",
      "source": [
        "#created table 'Locations'\n",
        "my_conn.execute('''\n",
        "  CREATE TABLE IF NOT EXISTS Locations(\n",
        "    id integer primary key,\n",
        "    name text,\n",
        "    street_number text,\n",
        "    city text,\n",
        "    type text)\n",
        "    ''')"
      ],
      "metadata": {
        "colab": {
          "base_uri": "https://localhost:8080/"
        },
        "id": "7bSxAMeSibTJ",
        "outputId": "b5fa6cef-4d25-4464-dbd0-f0a77c52d36d"
      },
      "execution_count": 184,
      "outputs": [
        {
          "output_type": "execute_result",
          "data": {
            "text/plain": [
              "<sqlalchemy.engine.cursor.LegacyCursorResult at 0x7fb206a0a550>"
            ]
          },
          "metadata": {},
          "execution_count": 184
        }
      ]
    },
    {
      "cell_type": "code",
      "source": [
        "#Inserting infor for the created table 'Locations'\n",
        "r_set = my_conn.execute('''INSERT INTO \"Locations\"\n",
        "(`id`,`name`, `street_number`, `city`, `type`)VALUES\n",
        "(1, 'Incheon Airport', 'Incheon 123', 'Incheon', 'Airport' ),\n",
        "(2, 'Square', 'Incheon 777', 'Incheon', 'Hotel' ) ''')\n",
        "\n",
        "q = ''' SELECT * FROM Locations '''\n",
        "my_cursor = my_conn.execute(q)\n",
        "data_row = my_cursor.fetchall()\n",
        "print(type(data_row))\n",
        "\n",
        "print(\"No of records : \" , len(data_row))\n",
        "for row in data_row:\n",
        "  print(row)"
      ],
      "metadata": {
        "colab": {
          "base_uri": "https://localhost:8080/"
        },
        "id": "wnM84NcEr_zl",
        "outputId": "c26d9ef3-5acc-4314-b0f8-38cfba8f47f9"
      },
      "execution_count": 185,
      "outputs": [
        {
          "output_type": "stream",
          "name": "stdout",
          "text": [
            "<class 'list'>\n",
            "No of records :  2\n",
            "(1, 'Incheon Airport', 'Incheon 123', 'Incheon', 'Airport')\n",
            "(2, 'Square', 'Incheon 777', 'Incheon', 'Hotel')\n"
          ]
        }
      ]
    },
    {
      "cell_type": "code",
      "source": [
        "#created table 'Trips'\n",
        "my_conn.execute('''\n",
        "  CREATE TABLE IF NOT EXISTS Trips(\n",
        "    id integer primary key,\n",
        "    booking_reference integer,\n",
        "    start_date_time date,\n",
        "    end_date_time date,\n",
        "    start_odometer integer,\n",
        "    end_odometer integer,\n",
        "    driver_id integer,\n",
        "    game_officials_id integer,\n",
        "    pickup_loc_id integer,\n",
        "    dropoff_loc_id integer,\n",
        "    FOREIGN KEY(driver_id) REFERENCES Drivers(id),\n",
        "    FOREIGN KEY(game_officials_id) REFERENCES Game_officials(id),\n",
        "    FOREIGN KEY(pickup_loc_id) REFERENCES Locations(id),\n",
        "    FOREIGN KEY(dropoff_loc_id) REFERENCES Locations(id))\n",
        "    ''')"
      ],
      "metadata": {
        "colab": {
          "base_uri": "https://localhost:8080/"
        },
        "id": "aC01ilf3khuf",
        "outputId": "45f7c7cd-5221-4e05-86a4-e49d0848daeb"
      },
      "execution_count": 186,
      "outputs": [
        {
          "output_type": "execute_result",
          "data": {
            "text/plain": [
              "<sqlalchemy.engine.cursor.LegacyCursorResult at 0x7fb2069f2450>"
            ]
          },
          "metadata": {},
          "execution_count": 186
        }
      ]
    },
    {
      "cell_type": "code",
      "source": [
        "#Inserting infor for the created table 'Trips'\n",
        "r_set = my_conn.execute('''INSERT INTO \"Trips\"\n",
        "(`id`,`booking_reference`, `start_date_time`,`end_date_time`, `start_odometer`,`end_odometer`, `driver_id`, `game_officials_id`, `pickup_loc_id`, `dropoff_loc_id`)VALUES\n",
        "(1, 213, '2024-11-11 13:00:00', '2022-11-11 16:00:00', 452, 534, 1, 1, 1, 2),\n",
        "(2, 125, '2024-20-11 15:00:00', '2022-20-11 20:00:00', 145, 567, 2, 2, 2, 1) ''')\n",
        "\n",
        "q = ''' SELECT * FROM Trips '''\n",
        "my_cursor = my_conn.execute(q)\n",
        "data_row = my_cursor.fetchall()\n",
        "print(type(data_row))\n",
        "\n",
        "print(\"No of records : \" , len(data_row))\n",
        "for row in data_row:\n",
        "  print(row)"
      ],
      "metadata": {
        "colab": {
          "base_uri": "https://localhost:8080/"
        },
        "id": "weM_VFyItMj6",
        "outputId": "f5412970-3615-4b23-f392-f39c9c17033b"
      },
      "execution_count": 187,
      "outputs": [
        {
          "output_type": "stream",
          "name": "stdout",
          "text": [
            "<class 'list'>\n",
            "No of records :  2\n",
            "(1, 213, '2024-11-11 13:00:00', '2022-11-11 16:00:00', 452, 534, 1, 1, 1, 2)\n",
            "(2, 125, '2024-20-11 15:00:00', '2022-20-11 20:00:00', 145, 567, 2, 2, 2, 1)\n"
          ]
        }
      ]
    }
  ]
}